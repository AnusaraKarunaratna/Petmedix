{
  "metadata": {
    "kernelspec": {
      "language": "python",
      "display_name": "Python 3",
      "name": "python3"
    },
    "language_info": {
      "name": "python",
      "version": "3.7.10",
      "mimetype": "text/x-python",
      "codemirror_mode": {
        "name": "ipython",
        "version": 3
      },
      "pygments_lexer": "ipython3",
      "nbconvert_exporter": "python",
      "file_extension": ".py"
    },
    "colab": {
      "provenance": []
    }
  },
  "nbformat_minor": 0,
  "nbformat": 4,
  "cells": [
    {
      "cell_type": "markdown",
      "source": [
        "## <center>Pet Skin Disease Detection</center>\n",
        "\n",
        "This notebook contains code for training a deep learning based model using tensorflow for detecting skin diseases in pets."
      ],
      "metadata": {
        "id": "IcM68uMEt_dN"
      }
    },
    {
      "cell_type": "code",
      "source": [
        "# Import OS module\n",
        "import os\n",
        "\n",
        "# Imports\n",
        "import numpy as np\n",
        "import pandas as pd\n",
        "\n",
        "# Visualization\n",
        "import matplotlib.pyplot as plt\n",
        "\n",
        "# Tensorflow\n",
        "import tensorflow as tf\n",
        "from tensorflow import keras\n",
        "from tensorflow.keras import callbacks, layers, Model\n",
        "from tensorflow.keras.preprocessing.image import ImageDataGenerator\n",
        "\n",
        "# Notebook magic\n",
        "%matplotlib inline"
      ],
      "metadata": {
        "_uuid": "8f2839f25d086af736a60e9eeb907d3b93b6e0e5",
        "_cell_guid": "b1076dfc-b9ad-4769-8c92-a6c4dae69d19",
        "execution": {
          "iopub.status.busy": "2021-09-30T04:46:35.353621Z",
          "iopub.execute_input": "2021-09-30T04:46:35.353973Z",
          "iopub.status.idle": "2021-09-30T04:46:39.842341Z",
          "shell.execute_reply.started": "2021-09-30T04:46:35.353890Z",
          "shell.execute_reply": "2021-09-30T04:46:39.841304Z"
        },
        "trusted": true,
        "id": "CZiq8FEJt_dP"
      },
      "execution_count": null,
      "outputs": []
    },
    {
      "cell_type": "code",
      "source": [
        "!unzip -q ezyZip.zip -d dataset\n",
        "\n",
        "print(\"Unzipped successfully.\")"
      ],
      "metadata": {
        "colab": {
          "base_uri": "https://localhost:8080/"
        },
        "id": "27CZ32snsMgn",
        "outputId": "e9a7984d-01ca-4841-8474-a6d8d2424a61"
      },
      "execution_count": null,
      "outputs": [
        {
          "output_type": "stream",
          "name": "stdout",
          "text": [
            "Unzipped successfully.\n"
          ]
        }
      ]
    },
    {
      "cell_type": "code",
      "source": [
        "# Check if GPU available\n",
        "!nvidia-smi"
      ],
      "metadata": {
        "execution": {
          "iopub.status.busy": "2021-09-30T04:46:39.843869Z",
          "iopub.execute_input": "2021-09-30T04:46:39.844284Z",
          "iopub.status.idle": "2021-09-30T04:46:40.568210Z",
          "shell.execute_reply.started": "2021-09-30T04:46:39.844239Z",
          "shell.execute_reply": "2021-09-30T04:46:40.567252Z"
        },
        "trusted": true,
        "colab": {
          "base_uri": "https://localhost:8080/"
        },
        "id": "HLOMqWbBt_dP",
        "outputId": "bb8b397c-aa7c-46b6-ebae-c1efbf539734"
      },
      "execution_count": null,
      "outputs": [
        {
          "output_type": "stream",
          "name": "stdout",
          "text": [
            "/bin/bash: line 1: nvidia-smi: command not found\n"
          ]
        }
      ]
    },
    {
      "cell_type": "code",
      "source": [
        "# Configure variables for Transfer learning\n",
        "image_size = 224\n",
        "target_size = (image_size, image_size)\n",
        "input_shape = (image_size, image_size, 3)\n",
        "grid_shape = (1, image_size, image_size, 3)\n",
        "\n",
        "batch_size = 32"
      ],
      "metadata": {
        "execution": {
          "iopub.status.busy": "2021-09-30T04:46:40.572131Z",
          "iopub.execute_input": "2021-09-30T04:46:40.572440Z",
          "iopub.status.idle": "2021-09-30T04:46:40.579798Z",
          "shell.execute_reply.started": "2021-09-30T04:46:40.572408Z",
          "shell.execute_reply": "2021-09-30T04:46:40.578909Z"
        },
        "trusted": true,
        "id": "qJaOVNjxt_dQ"
      },
      "execution_count": null,
      "outputs": []
    },
    {
      "cell_type": "markdown",
      "source": [
        "## Load Image data\n",
        "\n",
        "We will be loading all the images in the dataset and apply augmentations to make the model prepared for all kinds of images.\n",
        "\n",
        "The Tensorflow and Keras API provides `ImageDataGenerator` for adding the augmentations to be applied to the images, and easily load them from the directory. This automatically keeps track of the class for each image and works seamlessly with the rest of the API."
      ],
      "metadata": {
        "id": "jYXE5lAkt_dQ"
      }
    },
    {
      "cell_type": "code",
      "source": [
        "dataset_root = \"dataset\"\n",
        "\n",
        "train_dir = os.path.join(dataset_root, \"train\")\n",
        "test_dir = os.path.join(dataset_root, \"valid\")"
      ],
      "metadata": {
        "execution": {
          "iopub.status.busy": "2021-09-30T04:46:40.581357Z",
          "iopub.execute_input": "2021-09-30T04:46:40.581911Z",
          "iopub.status.idle": "2021-09-30T04:46:40.587516Z",
          "shell.execute_reply.started": "2021-09-30T04:46:40.581876Z",
          "shell.execute_reply": "2021-09-30T04:46:40.585933Z"
        },
        "trusted": true,
        "id": "ovH0RPcct_dQ"
      },
      "execution_count": null,
      "outputs": []
    },
    {
      "cell_type": "code",
      "source": [
        "# Define augmentations for train dataset and read the images\n",
        "train_aug = ImageDataGenerator(\n",
        "    # Rescale\n",
        "    rescale=1/255.0,\n",
        "    # Filling for W/H shift\n",
        "    fill_mode=\"nearest\",\n",
        "    # Width and Height shift\n",
        "    width_shift_range=0.2,\n",
        "    height_shift_range=0.2,\n",
        "    # Random zooms\n",
        "    zoom_range=0.2,\n",
        "    # Random Shearing aug\n",
        "    shear_range=0.2,\n",
        ")\n",
        "\n",
        "# Read data from directory\n",
        "train_data = train_aug.flow_from_directory(\n",
        "    train_dir,\n",
        "    target_size=(image_size, image_size),\n",
        "    batch_size=batch_size,\n",
        "    class_mode=\"categorical\"\n",
        ")"
      ],
      "metadata": {
        "execution": {
          "iopub.status.busy": "2021-09-30T04:46:40.588984Z",
          "iopub.execute_input": "2021-09-30T04:46:40.589508Z",
          "iopub.status.idle": "2021-09-30T04:47:31.426335Z",
          "shell.execute_reply.started": "2021-09-30T04:46:40.589448Z",
          "shell.execute_reply": "2021-09-30T04:47:31.425295Z"
        },
        "trusted": true,
        "id": "UyEWhtEOt_dQ",
        "outputId": "e75f2655-513b-45cd-c125-5ec1a81bb3aa",
        "colab": {
          "base_uri": "https://localhost:8080/"
        }
      },
      "execution_count": null,
      "outputs": [
        {
          "output_type": "stream",
          "name": "stdout",
          "text": [
            "Found 3027 images belonging to 6 classes.\n"
          ]
        }
      ]
    },
    {
      "cell_type": "code",
      "source": [
        "# Get the list of categories in training data\n",
        "cats = list(train_data.class_indices.keys())"
      ],
      "metadata": {
        "execution": {
          "iopub.status.busy": "2021-09-30T04:47:31.427736Z",
          "iopub.execute_input": "2021-09-30T04:47:31.428104Z",
          "iopub.status.idle": "2021-09-30T04:47:31.434273Z",
          "shell.execute_reply.started": "2021-09-30T04:47:31.428063Z",
          "shell.execute_reply": "2021-09-30T04:47:31.433411Z"
        },
        "trusted": true,
        "id": "NZROSBWRt_dR"
      },
      "execution_count": null,
      "outputs": []
    },
    {
      "cell_type": "code",
      "source": [
        "# Augmentations for test data\n",
        "test_aug = ImageDataGenerator(\n",
        "    # Rescale\n",
        "    rescale=1/255.0\n",
        ")\n",
        "\n",
        "# Read data from directory\n",
        "test_data = test_aug.flow_from_directory(\n",
        "    test_dir,\n",
        "    target_size=(image_size, image_size),\n",
        "    batch_size=batch_size,\n",
        "    class_mode=\"categorical\"\n",
        ")"
      ],
      "metadata": {
        "execution": {
          "iopub.status.busy": "2021-09-30T04:47:31.435812Z",
          "iopub.execute_input": "2021-09-30T04:47:31.436214Z",
          "iopub.status.idle": "2021-09-30T04:47:35.629439Z",
          "shell.execute_reply.started": "2021-09-30T04:47:31.436180Z",
          "shell.execute_reply": "2021-09-30T04:47:35.628573Z"
        },
        "trusted": true,
        "id": "TLzYtxu2t_dR",
        "outputId": "157e1cc5-eb56-45e2-dcd6-c40ac2b1a5c3",
        "colab": {
          "base_uri": "https://localhost:8080/"
        }
      },
      "execution_count": null,
      "outputs": [
        {
          "output_type": "stream",
          "name": "stdout",
          "text": [
            "Found 865 images belonging to 6 classes.\n"
          ]
        }
      ]
    },
    {
      "cell_type": "markdown",
      "source": [
        "## Model building and Training\n",
        "\n",
        "As mentioned above, We will be performing Transfer learning with Mobilenet V2 model.\n",
        "\n",
        "We get the model with pre-trained weights through API without the Top layer, and Then stack further layers for prediction.\n",
        "\n",
        "We used Global Average 2D Pooling for normalization along with dropout, and the final Dense output layer for the prediction."
      ],
      "metadata": {
        "id": "D6Xntln5t_dR"
      }
    },
    {
      "cell_type": "code",
      "source": [
        "# Load the base model\n",
        "mbnet_v2 = keras.applications.MobileNetV2(\n",
        "    weights=\"imagenet\",\n",
        "    include_top=False,\n",
        "    input_shape=input_shape\n",
        ")\n",
        "\n",
        "# Stop from being trainable\n",
        "mbnet_v2.trainable = False"
      ],
      "metadata": {
        "execution": {
          "iopub.status.busy": "2021-09-30T04:47:35.631880Z",
          "iopub.execute_input": "2021-09-30T04:47:35.632386Z",
          "iopub.status.idle": "2021-09-30T04:47:38.742538Z",
          "shell.execute_reply.started": "2021-09-30T04:47:35.632345Z",
          "shell.execute_reply": "2021-09-30T04:47:38.741366Z"
        },
        "trusted": true,
        "id": "XFaeYESut_dR",
        "outputId": "fa5efe2a-afc2-4c1a-b302-09a25d5159fd",
        "colab": {
          "base_uri": "https://localhost:8080/"
        }
      },
      "execution_count": null,
      "outputs": [
        {
          "output_type": "stream",
          "name": "stdout",
          "text": [
            "Downloading data from https://storage.googleapis.com/tensorflow/keras-applications/mobilenet_v2/mobilenet_v2_weights_tf_dim_ordering_tf_kernels_1.0_224_no_top.h5\n",
            "\u001b[1m9406464/9406464\u001b[0m \u001b[32m━━━━━━━━━━━━━━━━━━━━\u001b[0m\u001b[37m\u001b[0m \u001b[1m0s\u001b[0m 0us/step\n"
          ]
        }
      ]
    },
    {
      "cell_type": "code",
      "source": [
        "# Define the layers\n",
        "inputs = keras.Input(shape=input_shape)\n",
        "\n",
        "# Get the layer\n",
        "x = mbnet_v2(inputs, training = False)\n",
        "\n",
        "# Stack layers further\n",
        "x = tf.keras.layers.GlobalAveragePooling2D()(x)\n",
        "x = tf.keras.layers.Dropout(0.2)(x)\n",
        "x = tf.keras.layers.Dense(len(cats), activation=\"softmax\")(x)\n",
        "\n",
        "# Combine the model\n",
        "model = Model(inputs=inputs, outputs=x)\n",
        "\n",
        "# Summary\n",
        "model.summary()"
      ],
      "metadata": {
        "execution": {
          "iopub.status.busy": "2021-09-30T04:47:38.744340Z",
          "iopub.execute_input": "2021-09-30T04:47:38.744724Z",
          "iopub.status.idle": "2021-09-30T04:47:39.095072Z",
          "shell.execute_reply.started": "2021-09-30T04:47:38.744684Z",
          "shell.execute_reply": "2021-09-30T04:47:39.094194Z"
        },
        "trusted": true,
        "id": "ndoTL5W0t_dR",
        "outputId": "d243637f-ec82-4c97-cc66-22b674b1607d",
        "colab": {
          "base_uri": "https://localhost:8080/",
          "height": 331
        }
      },
      "execution_count": null,
      "outputs": [
        {
          "output_type": "display_data",
          "data": {
            "text/plain": [
              "\u001b[1mModel: \"functional\"\u001b[0m\n"
            ],
            "text/html": [
              "<pre style=\"white-space:pre;overflow-x:auto;line-height:normal;font-family:Menlo,'DejaVu Sans Mono',consolas,'Courier New',monospace\"><span style=\"font-weight: bold\">Model: \"functional\"</span>\n",
              "</pre>\n"
            ]
          },
          "metadata": {}
        },
        {
          "output_type": "display_data",
          "data": {
            "text/plain": [
              "┏━━━━━━━━━━━━━━━━━━━━━━━━━━━━━━━━━┳━━━━━━━━━━━━━━━━━━━━━━━━┳━━━━━━━━━━━━━━━┓\n",
              "┃\u001b[1m \u001b[0m\u001b[1mLayer (type)                   \u001b[0m\u001b[1m \u001b[0m┃\u001b[1m \u001b[0m\u001b[1mOutput Shape          \u001b[0m\u001b[1m \u001b[0m┃\u001b[1m \u001b[0m\u001b[1m      Param #\u001b[0m\u001b[1m \u001b[0m┃\n",
              "┡━━━━━━━━━━━━━━━━━━━━━━━━━━━━━━━━━╇━━━━━━━━━━━━━━━━━━━━━━━━╇━━━━━━━━━━━━━━━┩\n",
              "│ input_layer_1 (\u001b[38;5;33mInputLayer\u001b[0m)      │ (\u001b[38;5;45mNone\u001b[0m, \u001b[38;5;34m224\u001b[0m, \u001b[38;5;34m224\u001b[0m, \u001b[38;5;34m3\u001b[0m)    │             \u001b[38;5;34m0\u001b[0m │\n",
              "├─────────────────────────────────┼────────────────────────┼───────────────┤\n",
              "│ mobilenetv2_1.00_224            │ (\u001b[38;5;45mNone\u001b[0m, \u001b[38;5;34m7\u001b[0m, \u001b[38;5;34m7\u001b[0m, \u001b[38;5;34m1280\u001b[0m)     │     \u001b[38;5;34m2,257,984\u001b[0m │\n",
              "│ (\u001b[38;5;33mFunctional\u001b[0m)                    │                        │               │\n",
              "├─────────────────────────────────┼────────────────────────┼───────────────┤\n",
              "│ global_average_pooling2d        │ (\u001b[38;5;45mNone\u001b[0m, \u001b[38;5;34m1280\u001b[0m)           │             \u001b[38;5;34m0\u001b[0m │\n",
              "│ (\u001b[38;5;33mGlobalAveragePooling2D\u001b[0m)        │                        │               │\n",
              "├─────────────────────────────────┼────────────────────────┼───────────────┤\n",
              "│ dropout (\u001b[38;5;33mDropout\u001b[0m)               │ (\u001b[38;5;45mNone\u001b[0m, \u001b[38;5;34m1280\u001b[0m)           │             \u001b[38;5;34m0\u001b[0m │\n",
              "├─────────────────────────────────┼────────────────────────┼───────────────┤\n",
              "│ dense (\u001b[38;5;33mDense\u001b[0m)                   │ (\u001b[38;5;45mNone\u001b[0m, \u001b[38;5;34m6\u001b[0m)              │         \u001b[38;5;34m7,686\u001b[0m │\n",
              "└─────────────────────────────────┴────────────────────────┴───────────────┘\n"
            ],
            "text/html": [
              "<pre style=\"white-space:pre;overflow-x:auto;line-height:normal;font-family:Menlo,'DejaVu Sans Mono',consolas,'Courier New',monospace\">┏━━━━━━━━━━━━━━━━━━━━━━━━━━━━━━━━━┳━━━━━━━━━━━━━━━━━━━━━━━━┳━━━━━━━━━━━━━━━┓\n",
              "┃<span style=\"font-weight: bold\"> Layer (type)                    </span>┃<span style=\"font-weight: bold\"> Output Shape           </span>┃<span style=\"font-weight: bold\">       Param # </span>┃\n",
              "┡━━━━━━━━━━━━━━━━━━━━━━━━━━━━━━━━━╇━━━━━━━━━━━━━━━━━━━━━━━━╇━━━━━━━━━━━━━━━┩\n",
              "│ input_layer_1 (<span style=\"color: #0087ff; text-decoration-color: #0087ff\">InputLayer</span>)      │ (<span style=\"color: #00d7ff; text-decoration-color: #00d7ff\">None</span>, <span style=\"color: #00af00; text-decoration-color: #00af00\">224</span>, <span style=\"color: #00af00; text-decoration-color: #00af00\">224</span>, <span style=\"color: #00af00; text-decoration-color: #00af00\">3</span>)    │             <span style=\"color: #00af00; text-decoration-color: #00af00\">0</span> │\n",
              "├─────────────────────────────────┼────────────────────────┼───────────────┤\n",
              "│ mobilenetv2_1.00_224            │ (<span style=\"color: #00d7ff; text-decoration-color: #00d7ff\">None</span>, <span style=\"color: #00af00; text-decoration-color: #00af00\">7</span>, <span style=\"color: #00af00; text-decoration-color: #00af00\">7</span>, <span style=\"color: #00af00; text-decoration-color: #00af00\">1280</span>)     │     <span style=\"color: #00af00; text-decoration-color: #00af00\">2,257,984</span> │\n",
              "│ (<span style=\"color: #0087ff; text-decoration-color: #0087ff\">Functional</span>)                    │                        │               │\n",
              "├─────────────────────────────────┼────────────────────────┼───────────────┤\n",
              "│ global_average_pooling2d        │ (<span style=\"color: #00d7ff; text-decoration-color: #00d7ff\">None</span>, <span style=\"color: #00af00; text-decoration-color: #00af00\">1280</span>)           │             <span style=\"color: #00af00; text-decoration-color: #00af00\">0</span> │\n",
              "│ (<span style=\"color: #0087ff; text-decoration-color: #0087ff\">GlobalAveragePooling2D</span>)        │                        │               │\n",
              "├─────────────────────────────────┼────────────────────────┼───────────────┤\n",
              "│ dropout (<span style=\"color: #0087ff; text-decoration-color: #0087ff\">Dropout</span>)               │ (<span style=\"color: #00d7ff; text-decoration-color: #00d7ff\">None</span>, <span style=\"color: #00af00; text-decoration-color: #00af00\">1280</span>)           │             <span style=\"color: #00af00; text-decoration-color: #00af00\">0</span> │\n",
              "├─────────────────────────────────┼────────────────────────┼───────────────┤\n",
              "│ dense (<span style=\"color: #0087ff; text-decoration-color: #0087ff\">Dense</span>)                   │ (<span style=\"color: #00d7ff; text-decoration-color: #00d7ff\">None</span>, <span style=\"color: #00af00; text-decoration-color: #00af00\">6</span>)              │         <span style=\"color: #00af00; text-decoration-color: #00af00\">7,686</span> │\n",
              "└─────────────────────────────────┴────────────────────────┴───────────────┘\n",
              "</pre>\n"
            ]
          },
          "metadata": {}
        },
        {
          "output_type": "display_data",
          "data": {
            "text/plain": [
              "\u001b[1m Total params: \u001b[0m\u001b[38;5;34m2,265,670\u001b[0m (8.64 MB)\n"
            ],
            "text/html": [
              "<pre style=\"white-space:pre;overflow-x:auto;line-height:normal;font-family:Menlo,'DejaVu Sans Mono',consolas,'Courier New',monospace\"><span style=\"font-weight: bold\"> Total params: </span><span style=\"color: #00af00; text-decoration-color: #00af00\">2,265,670</span> (8.64 MB)\n",
              "</pre>\n"
            ]
          },
          "metadata": {}
        },
        {
          "output_type": "display_data",
          "data": {
            "text/plain": [
              "\u001b[1m Trainable params: \u001b[0m\u001b[38;5;34m7,686\u001b[0m (30.02 KB)\n"
            ],
            "text/html": [
              "<pre style=\"white-space:pre;overflow-x:auto;line-height:normal;font-family:Menlo,'DejaVu Sans Mono',consolas,'Courier New',monospace\"><span style=\"font-weight: bold\"> Trainable params: </span><span style=\"color: #00af00; text-decoration-color: #00af00\">7,686</span> (30.02 KB)\n",
              "</pre>\n"
            ]
          },
          "metadata": {}
        },
        {
          "output_type": "display_data",
          "data": {
            "text/plain": [
              "\u001b[1m Non-trainable params: \u001b[0m\u001b[38;5;34m2,257,984\u001b[0m (8.61 MB)\n"
            ],
            "text/html": [
              "<pre style=\"white-space:pre;overflow-x:auto;line-height:normal;font-family:Menlo,'DejaVu Sans Mono',consolas,'Courier New',monospace\"><span style=\"font-weight: bold\"> Non-trainable params: </span><span style=\"color: #00af00; text-decoration-color: #00af00\">2,257,984</span> (8.61 MB)\n",
              "</pre>\n"
            ]
          },
          "metadata": {}
        }
      ]
    },
    {
      "cell_type": "code",
      "source": [
        "# Compile\n",
        "model.compile(optimizer=\"adam\", loss=\"categorical_crossentropy\", metrics=[\"accuracy\"])\n",
        "\n",
        "# Define callbacks to use\n",
        "early_stopping_cb = callbacks.EarlyStopping(monitor=\"loss\", patience=3)"
      ],
      "metadata": {
        "execution": {
          "iopub.status.busy": "2021-09-30T04:47:39.096366Z",
          "iopub.execute_input": "2021-09-30T04:47:39.096732Z",
          "iopub.status.idle": "2021-09-30T04:47:39.114312Z",
          "shell.execute_reply.started": "2021-09-30T04:47:39.096697Z",
          "shell.execute_reply": "2021-09-30T04:47:39.113164Z"
        },
        "trusted": true,
        "id": "vpxqv9NUt_dS"
      },
      "execution_count": null,
      "outputs": []
    },
    {
      "cell_type": "code",
      "source": [
        "# Num epochs\n",
        "epochs = 30\n",
        "\n",
        "# Train model\n",
        "history = model.fit(\n",
        "    train_data,\n",
        "    epochs=epochs,\n",
        "    steps_per_epoch=150,\n",
        "    callbacks=[early_stopping_cb]\n",
        ")"
      ],
      "metadata": {
        "execution": {
          "iopub.status.busy": "2021-09-30T04:47:39.115828Z",
          "iopub.execute_input": "2021-09-30T04:47:39.116380Z",
          "iopub.status.idle": "2021-09-30T05:14:28.801693Z",
          "shell.execute_reply.started": "2021-09-30T04:47:39.116341Z",
          "shell.execute_reply": "2021-09-30T05:14:28.800678Z"
        },
        "trusted": true,
        "id": "DsPKetyct_dS",
        "outputId": "ef469fd1-b5d9-44ba-ac70-e768829fe353",
        "colab": {
          "base_uri": "https://localhost:8080/"
        }
      },
      "execution_count": null,
      "outputs": [
        {
          "output_type": "stream",
          "name": "stderr",
          "text": [
            "/usr/local/lib/python3.11/dist-packages/keras/src/trainers/data_adapters/py_dataset_adapter.py:121: UserWarning: Your `PyDataset` class should call `super().__init__(**kwargs)` in its constructor. `**kwargs` can include `workers`, `use_multiprocessing`, `max_queue_size`. Do not pass these arguments to `fit()`, as they will be ignored.\n",
            "  self._warn_if_super_not_called()\n"
          ]
        },
        {
          "output_type": "stream",
          "name": "stdout",
          "text": [
            "Epoch 1/30\n",
            "\u001b[1m150/150\u001b[0m \u001b[32m━━━━━━━━━━━━━━━━━━━━\u001b[0m\u001b[37m\u001b[0m \u001b[1m173s\u001b[0m 1s/step - accuracy: 0.4459 - loss: 1.5203\n",
            "Epoch 2/30\n"
          ]
        },
        {
          "output_type": "stream",
          "name": "stderr",
          "text": [
            "/usr/local/lib/python3.11/dist-packages/keras/src/trainers/epoch_iterator.py:107: UserWarning: Your input ran out of data; interrupting training. Make sure that your dataset or generator can generate at least `steps_per_epoch * epochs` batches. You may need to use the `.repeat()` function when building your dataset.\n",
            "  self._interrupted_warning()\n"
          ]
        },
        {
          "output_type": "stream",
          "name": "stdout",
          "text": [
            "\u001b[1m150/150\u001b[0m \u001b[32m━━━━━━━━━━━━━━━━━━━━\u001b[0m\u001b[37m\u001b[0m \u001b[1m201s\u001b[0m 1s/step - accuracy: 0.6883 - loss: 0.8583\n",
            "Epoch 3/30\n",
            "\u001b[1m150/150\u001b[0m \u001b[32m━━━━━━━━━━━━━━━━━━━━\u001b[0m\u001b[37m\u001b[0m \u001b[1m166s\u001b[0m 1s/step - accuracy: 0.7328 - loss: 0.7170\n",
            "Epoch 4/30\n",
            "\u001b[1m150/150\u001b[0m \u001b[32m━━━━━━━━━━━━━━━━━━━━\u001b[0m\u001b[37m\u001b[0m \u001b[1m200s\u001b[0m 1s/step - accuracy: 0.7611 - loss: 0.6736\n",
            "Epoch 5/30\n",
            "\u001b[1m150/150\u001b[0m \u001b[32m━━━━━━━━━━━━━━━━━━━━\u001b[0m\u001b[37m\u001b[0m \u001b[1m202s\u001b[0m 1s/step - accuracy: 0.7910 - loss: 0.6002\n",
            "Epoch 6/30\n",
            "\u001b[1m150/150\u001b[0m \u001b[32m━━━━━━━━━━━━━━━━━━━━\u001b[0m\u001b[37m\u001b[0m \u001b[1m201s\u001b[0m 1s/step - accuracy: 0.7926 - loss: 0.5762\n",
            "Epoch 7/30\n",
            "\u001b[1m150/150\u001b[0m \u001b[32m━━━━━━━━━━━━━━━━━━━━\u001b[0m\u001b[37m\u001b[0m \u001b[1m203s\u001b[0m 1s/step - accuracy: 0.7938 - loss: 0.5692\n",
            "Epoch 8/30\n",
            "\u001b[1m150/150\u001b[0m \u001b[32m━━━━━━━━━━━━━━━━━━━━\u001b[0m\u001b[37m\u001b[0m \u001b[1m202s\u001b[0m 1s/step - accuracy: 0.8073 - loss: 0.5274\n",
            "Epoch 9/30\n",
            "\u001b[1m150/150\u001b[0m \u001b[32m━━━━━━━━━━━━━━━━━━━━\u001b[0m\u001b[37m\u001b[0m \u001b[1m203s\u001b[0m 1s/step - accuracy: 0.8225 - loss: 0.5047\n",
            "Epoch 10/30\n",
            "\u001b[1m150/150\u001b[0m \u001b[32m━━━━━━━━━━━━━━━━━━━━\u001b[0m\u001b[37m\u001b[0m \u001b[1m164s\u001b[0m 1s/step - accuracy: 0.8350 - loss: 0.4770\n",
            "Epoch 11/30\n",
            "\u001b[1m150/150\u001b[0m \u001b[32m━━━━━━━━━━━━━━━━━━━━\u001b[0m\u001b[37m\u001b[0m \u001b[1m202s\u001b[0m 1s/step - accuracy: 0.8336 - loss: 0.4695\n",
            "Epoch 12/30\n",
            "\u001b[1m150/150\u001b[0m \u001b[32m━━━━━━━━━━━━━━━━━━━━\u001b[0m\u001b[37m\u001b[0m \u001b[1m201s\u001b[0m 1s/step - accuracy: 0.8501 - loss: 0.4491\n",
            "Epoch 13/30\n",
            "\u001b[1m150/150\u001b[0m \u001b[32m━━━━━━━━━━━━━━━━━━━━\u001b[0m\u001b[37m\u001b[0m \u001b[1m164s\u001b[0m 1s/step - accuracy: 0.8242 - loss: 0.4741\n",
            "Epoch 14/30\n",
            "\u001b[1m150/150\u001b[0m \u001b[32m━━━━━━━━━━━━━━━━━━━━\u001b[0m\u001b[37m\u001b[0m \u001b[1m164s\u001b[0m 1s/step - accuracy: 0.8499 - loss: 0.4244\n",
            "Epoch 15/30\n",
            "\u001b[1m150/150\u001b[0m \u001b[32m━━━━━━━━━━━━━━━━━━━━\u001b[0m\u001b[37m\u001b[0m \u001b[1m164s\u001b[0m 1s/step - accuracy: 0.8443 - loss: 0.4395\n",
            "Epoch 16/30\n",
            "\u001b[1m150/150\u001b[0m \u001b[32m━━━━━━━━━━━━━━━━━━━━\u001b[0m\u001b[37m\u001b[0m \u001b[1m164s\u001b[0m 1s/step - accuracy: 0.8329 - loss: 0.4393\n",
            "Epoch 17/30\n",
            "\u001b[1m150/150\u001b[0m \u001b[32m━━━━━━━━━━━━━━━━━━━━\u001b[0m\u001b[37m\u001b[0m \u001b[1m202s\u001b[0m 1s/step - accuracy: 0.8594 - loss: 0.4110\n",
            "Epoch 18/30\n",
            "\u001b[1m150/150\u001b[0m \u001b[32m━━━━━━━━━━━━━━━━━━━━\u001b[0m\u001b[37m\u001b[0m \u001b[1m164s\u001b[0m 1s/step - accuracy: 0.8532 - loss: 0.4014\n",
            "Epoch 19/30\n",
            "\u001b[1m150/150\u001b[0m \u001b[32m━━━━━━━━━━━━━━━━━━━━\u001b[0m\u001b[37m\u001b[0m \u001b[1m203s\u001b[0m 1s/step - accuracy: 0.8390 - loss: 0.4259\n",
            "Epoch 20/30\n",
            "\u001b[1m150/150\u001b[0m \u001b[32m━━━━━━━━━━━━━━━━━━━━\u001b[0m\u001b[37m\u001b[0m \u001b[1m200s\u001b[0m 1s/step - accuracy: 0.8427 - loss: 0.4294\n",
            "Epoch 21/30\n",
            "\u001b[1m150/150\u001b[0m \u001b[32m━━━━━━━━━━━━━━━━━━━━\u001b[0m\u001b[37m\u001b[0m \u001b[1m203s\u001b[0m 1s/step - accuracy: 0.8588 - loss: 0.3919\n",
            "Epoch 22/30\n",
            "\u001b[1m150/150\u001b[0m \u001b[32m━━━━━━━━━━━━━━━━━━━━\u001b[0m\u001b[37m\u001b[0m \u001b[1m165s\u001b[0m 1s/step - accuracy: 0.8634 - loss: 0.3927\n",
            "Epoch 23/30\n",
            "\u001b[1m150/150\u001b[0m \u001b[32m━━━━━━━━━━━━━━━━━━━━\u001b[0m\u001b[37m\u001b[0m \u001b[1m202s\u001b[0m 1s/step - accuracy: 0.8667 - loss: 0.3841\n",
            "Epoch 24/30\n",
            "\u001b[1m150/150\u001b[0m \u001b[32m━━━━━━━━━━━━━━━━━━━━\u001b[0m\u001b[37m\u001b[0m \u001b[1m164s\u001b[0m 1s/step - accuracy: 0.8612 - loss: 0.3835\n",
            "Epoch 25/30\n",
            "\u001b[1m150/150\u001b[0m \u001b[32m━━━━━━━━━━━━━━━━━━━━\u001b[0m\u001b[37m\u001b[0m \u001b[1m164s\u001b[0m 1s/step - accuracy: 0.8638 - loss: 0.3872\n",
            "Epoch 26/30\n",
            "\u001b[1m150/150\u001b[0m \u001b[32m━━━━━━━━━━━━━━━━━━━━\u001b[0m\u001b[37m\u001b[0m \u001b[1m203s\u001b[0m 1s/step - accuracy: 0.8635 - loss: 0.3728\n",
            "Epoch 27/30\n",
            "\u001b[1m150/150\u001b[0m \u001b[32m━━━━━━━━━━━━━━━━━━━━\u001b[0m\u001b[37m\u001b[0m \u001b[1m201s\u001b[0m 1s/step - accuracy: 0.8632 - loss: 0.3936\n",
            "Epoch 28/30\n",
            "\u001b[1m150/150\u001b[0m \u001b[32m━━━━━━━━━━━━━━━━━━━━\u001b[0m\u001b[37m\u001b[0m \u001b[1m198s\u001b[0m 1s/step - accuracy: 0.8630 - loss: 0.3780\n",
            "Epoch 29/30\n",
            "\u001b[1m150/150\u001b[0m \u001b[32m━━━━━━━━━━━━━━━━━━━━\u001b[0m\u001b[37m\u001b[0m \u001b[1m205s\u001b[0m 1s/step - accuracy: 0.8648 - loss: 0.3658\n",
            "Epoch 30/30\n",
            "\u001b[1m150/150\u001b[0m \u001b[32m━━━━━━━━━━━━━━━━━━━━\u001b[0m\u001b[37m\u001b[0m \u001b[1m202s\u001b[0m 1s/step - accuracy: 0.8552 - loss: 0.3842\n"
          ]
        }
      ]
    },
    {
      "cell_type": "code",
      "source": [
        "model.evaluate(test_data)"
      ],
      "metadata": {
        "execution": {
          "iopub.status.busy": "2021-09-30T05:14:28.803625Z",
          "iopub.execute_input": "2021-09-30T05:14:28.804307Z",
          "iopub.status.idle": "2021-09-30T05:16:31.435210Z",
          "shell.execute_reply.started": "2021-09-30T05:14:28.804258Z",
          "shell.execute_reply": "2021-09-30T05:16:31.434486Z"
        },
        "trusted": true,
        "id": "1jbVQXVjt_dS",
        "outputId": "22fc349e-edc0-4c07-efcb-e5c792d47f72",
        "colab": {
          "base_uri": "https://localhost:8080/"
        }
      },
      "execution_count": null,
      "outputs": [
        {
          "output_type": "stream",
          "name": "stdout",
          "text": [
            "\u001b[1m28/28\u001b[0m \u001b[32m━━━━━━━━━━━━━━━━━━━━\u001b[0m\u001b[37m\u001b[0m \u001b[1m40s\u001b[0m 1s/step - accuracy: 0.8539 - loss: 0.4385\n"
          ]
        },
        {
          "output_type": "execute_result",
          "data": {
            "text/plain": [
              "[0.4785206615924835, 0.8346821069717407]"
            ]
          },
          "metadata": {},
          "execution_count": 17
        }
      ]
    },
    {
      "cell_type": "markdown",
      "source": [
        "## Visualize the model history"
      ],
      "metadata": {
        "id": "ZlRFppYkt_dS"
      }
    },
    {
      "cell_type": "code",
      "source": [
        "# Plotting\n",
        "hist = history.history\n",
        "\n",
        "# Plot accuracy and loss\n",
        "plt.plot(hist[\"accuracy\"], label=\"accuracy\")\n",
        "plt.plot(hist[\"loss\"], label=\"loss\")\n",
        "\n",
        "if \"val_accuracy\" in hist and \"val_loss\" in hist:\n",
        "    plt.plot(hist[\"val_accuracy\"], label=\"val_accuracy\")\n",
        "    plt.plot(hist[\"val_loss\"], label=\"val_loss\")\n",
        "\n",
        "# Add the labels and legend\n",
        "plt.ylabel(\"Accuracy / Loss\")\n",
        "plt.xlabel(\"Epochs #\")\n",
        "plt.legend()\n",
        "\n",
        "# Finally show the plot\n",
        "plt.show()"
      ],
      "metadata": {
        "execution": {
          "iopub.status.busy": "2021-09-30T05:16:31.436535Z",
          "iopub.execute_input": "2021-09-30T05:16:31.437127Z",
          "iopub.status.idle": "2021-09-30T05:16:31.598183Z",
          "shell.execute_reply.started": "2021-09-30T05:16:31.437080Z",
          "shell.execute_reply": "2021-09-30T05:16:31.597199Z"
        },
        "trusted": true,
        "id": "wluGmQJSt_dS",
        "outputId": "c5593fd7-fffa-494c-93f8-e8d0939b1395",
        "colab": {
          "base_uri": "https://localhost:8080/",
          "height": 449
        }
      },
      "execution_count": null,
      "outputs": [
        {
          "output_type": "display_data",
          "data": {
            "text/plain": [
              "<Figure size 640x480 with 1 Axes>"
            ],
            "image/png": "[encoded data removed]"
          },
          "metadata": {}
        }
      ]
    },
    {
      "cell_type": "markdown",
      "source": [
        "## Save and download the model\n",
        "\n",
        "We save the model to a file, and link it using IPython to easily get the assets."
      ],
      "metadata": {
        "id": "qpONf2Itt_dS"
      }
    },
    {
      "cell_type": "code",
      "source": [
        "model.save(\"dog__skin_disease_detection.h5\")"
      ],
      "metadata": {
        "execution": {
          "iopub.status.busy": "2021-09-30T05:16:31.599677Z",
          "iopub.execute_input": "2021-09-30T05:16:31.600028Z",
          "iopub.status.idle": "2021-09-30T05:16:31.825066Z",
          "shell.execute_reply.started": "2021-09-30T05:16:31.599993Z",
          "shell.execute_reply": "2021-09-30T05:16:31.824176Z"
        },
        "trusted": true,
        "id": "dApvQfgDt_dS",
        "colab": {
          "base_uri": "https://localhost:8080/"
        },
        "outputId": "57004e2e-f208-4465-8017-8b1f189a43d9"
      },
      "execution_count": null,
      "outputs": [
        {
          "output_type": "stream",
          "name": "stderr",
          "text": [
            "WARNING:absl:You are saving your model as an HDF5 file via `model.save()` or `keras.saving.save_model(model)`. This file format is considered legacy. We recommend using instead the native Keras format, e.g. `model.save('my_model.keras')` or `keras.saving.save_model(model, 'my_model.keras')`. \n"
          ]
        }
      ]
    },
    {
      "cell_type": "code",
      "source": [
        "import json\n",
        "\n",
        "from IPython.display import FileLink\n",
        "\n",
        "# Link the files\n",
        "FileLink(\"./dog__skin_disease_detection.h5\")"
      ],
      "metadata": {
        "execution": {
          "iopub.status.busy": "2021-09-30T05:16:31.826435Z",
          "iopub.execute_input": "2021-09-30T05:16:31.826805Z",
          "iopub.status.idle": "2021-09-30T05:16:31.834033Z",
          "shell.execute_reply.started": "2021-09-30T05:16:31.826768Z",
          "shell.execute_reply": "2021-09-30T05:16:31.832953Z"
        },
        "trusted": true,
        "id": "tx77DjuBt_dT",
        "outputId": "70e986a1-715e-4516-c068-ddfa9cbe7a0a",
        "colab": {
          "base_uri": "https://localhost:8080/",
          "height": 34
        }
      },
      "execution_count": null,
      "outputs": [
        {
          "output_type": "execute_result",
          "data": {
            "text/plain": [
              "/content/dog__skin_disease_detection.h5"
            ],
            "text/html": [
              "<a href='./dog__skin_disease_detection.h5' target='_blank'>./dog__skin_disease_detection.h5</a><br>"
            ]
          },
          "metadata": {},
          "execution_count": 23
        }
      ]
    },
    {
      "cell_type": "code",
      "source": [
        "# Dump the categories\n",
        "with open(\"categories.json\", \"w\") as file:\n",
        "  json.dump(train_data.class_indices, file)\n",
        "\n",
        "# Link categories JSON\n",
        "FileLink(\"categories.json\")"
      ],
      "metadata": {
        "execution": {
          "iopub.status.busy": "2021-09-30T05:16:31.835804Z",
          "iopub.execute_input": "2021-09-30T05:16:31.836492Z",
          "iopub.status.idle": "2021-09-30T05:16:31.844925Z",
          "shell.execute_reply.started": "2021-09-30T05:16:31.836438Z",
          "shell.execute_reply": "2021-09-30T05:16:31.843857Z"
        },
        "trusted": true,
        "id": "W0MsXwP8t_dT",
        "outputId": "f22209b8-b38b-4fe1-d16c-d023fff8da56",
        "colab": {
          "base_uri": "https://localhost:8080/",
          "height": 34
        }
      },
      "execution_count": null,
      "outputs": [
        {
          "output_type": "execute_result",
          "data": {
            "text/plain": [
              "/content/categories.json"
            ],
            "text/html": [
              "<a href='categories.json' target='_blank'>categories.json</a><br>"
            ]
          },
          "metadata": {},
          "execution_count": 24
        }
      ]
    }
  ]
}